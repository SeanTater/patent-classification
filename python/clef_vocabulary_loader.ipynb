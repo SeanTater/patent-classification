{
 "metadata": {
  "name": "",
  "signature": "sha256:06df280b6110e6651dc56e63d0368d8507bfd76f2b346743faa68c702fed9edc"
 },
 "nbformat": 3,
 "nbformat_minor": 0,
 "worksheets": [
  {
   "cells": [
    {
     "cell_type": "heading",
     "level": 1,
     "metadata": {},
     "source": [
      "CLEF-IP2010 Vocabulary Loader"
     ]
    },
    {
     "cell_type": "heading",
     "level": 6,
     "metadata": {},
     "source": [
      "Load clef-ip2010 patents vocabulary from DB table"
     ]
    },
    {
     "cell_type": "code",
     "collapsed": false,
     "input": [
      "def load_vocabulary(tbl_name):\n",
      "    import sqlite3 as sqlitedb\n",
      "    from clef_globals import *\n",
      "\n",
      "    # load vocabulary from sqlite DB\n",
      "    vocabulary = []\n",
      "    stmt = 'select term from {0}'.format(tbl_name)\n",
      "    con = sqlitedb.connect(db_path)\n",
      "    with con:\n",
      "        cur = con.execute(stmt)\n",
      "        while True:\n",
      "            term = cur.fetchone()\n",
      "            if term==None or term[0]==None:\n",
      "                break\n",
      "            # retrieve patent text\n",
      "            vocabulary.append(term[0])\n",
      "\n",
      "    print 'loaded ({0}) terms'.format(len(vocabulary))\n",
      "    return vocabulary"
     ],
     "language": "python",
     "metadata": {},
     "outputs": [],
     "prompt_number": 741
    },
    {
     "cell_type": "code",
     "collapsed": false,
     "input": [
      "# load all unigrams from tbl_name_full1 and only bigrams existing in both tbl_name_full2&tbl_name_intersect\n",
      "def load_common_vocabulary(tbl_name_full1,tbl_name_full2,tbl_name_intersect,stem_or_lemma):\n",
      "    import sqlite3 as sqlitedb\n",
      "    from clef_globals import *\n",
      "\n",
      "    # load vocabulary from sqlite DB\n",
      "    vocabulary = []\n",
      "    #stmt = 'select term from {0} where instr(term,\\' \\')=0 union select {1} from {2},{3} where {4}=term'.format(tbl_name_full,stem_or_lemma,tbl_name_full,tbl_name_intersect,stem_or_lemma)\n",
      "    #stmt = 'select term from {0} where term not like \\'% %\\' union select {1} from {2},{3} where {4}=term union select bigram from {5},{6} where bigram=term'.format(tbl_name_full,stem_or_lemma,tbl_name_full,tbl_name_intersect,stem_or_lemma,tbl_name_full,tbl_name_intersect)\n",
      "    #stmt = 'select term from {0} union select {1} from {2} union select bigram from {2}'.format(tbl_name_full,stem_or_lemma,tbl_name_intersect)\n",
      "    stmt = 'select term from {0} union select {1} from {2},{3} where {1}=term union select bigram from {2},{3} where bigram=term'.format(tbl_name_full1,stem_or_lemma,tbl_name_full2,tbl_name_intersect)\n",
      "    con = sqlitedb.connect(db_path)\n",
      "    with con:\n",
      "        cur = con.execute(stmt)\n",
      "        while True:\n",
      "            term = cur.fetchone()\n",
      "            if term==None or term[0]==None:\n",
      "                break\n",
      "            # retrieve patent text\n",
      "            vocabulary.append(term[0])\n",
      "\n",
      "    print 'loaded ({0}) terms'.format(len(vocabulary))\n",
      "    return vocabulary"
     ],
     "language": "python",
     "metadata": {},
     "outputs": [],
     "prompt_number": 743
    }
   ],
   "metadata": {}
  }
 ]
}