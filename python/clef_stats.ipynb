{
 "metadata": {
  "name": "",
  "signature": "sha256:60f9535c51842fdecbd508f76521cac99533686e613a69202bf0239ea60c3bd3"
 },
 "nbformat": 3,
 "nbformat_minor": 0,
 "worksheets": [
  {
   "cells": [
    {
     "cell_type": "heading",
     "level": 1,
     "metadata": {},
     "source": [
      "CLEF-IP2010 statistics"
     ]
    },
    {
     "cell_type": "heading",
     "level": 6,
     "metadata": {},
     "source": [
      "collect some statistics about clef-ip2010 corpus"
     ]
    },
    {
     "cell_type": "code",
     "collapsed": false,
     "input": [
      "def test(vocabulary_src):\n",
      "    from clef_corpus_loader import load_corpus_with_labels\n",
      "    \n",
      "    # load clef patents with class lables from DB using only vocabulary_src as main field for vocabulary (e.g., abstract, description, claims...)\n",
      "    corpus_data = load_corpus_with_labels(vocabulary_src)\n",
      "    corpus = corpus_data['corpus']\n",
      "    labels = corpus_data['labels']\n",
      "    labels_dic = corpus_data['labels_dic']\n",
      "    labels_arr = corpus_data['labels_arr']\n",
      "    print '# patents {0}'.format(len(corpus))\n",
      "    print '# labels {0}'.format(len(labels_dic))"
     ],
     "language": "python",
     "metadata": {},
     "outputs": []
    },
    {
     "cell_type": "code",
     "collapsed": false,
     "input": [
      "# test using abstracts vocabulary\n",
      "vocabulary_src = 'abstract'\n",
      "test(vocabulary_src)\n",
      "\n",
      "# test using clef claims vocabulary\n",
      "vocabulary_src = 'claims'\n",
      "test(vocabulary_src)\n",
      "\n",
      "# test using clef description vocabulary\n",
      "vocabulary_src = 'description'\n",
      "test(vocabulary_src)\n",
      "\n",
      "print 'done!'"
     ],
     "language": "python",
     "metadata": {},
     "outputs": []
    }
   ],
   "metadata": {}
  }
 ]
}